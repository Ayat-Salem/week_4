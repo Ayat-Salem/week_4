{
  "nbformat": 4,
  "nbformat_minor": 0,
  "metadata": {
    "kernelspec": {
      "display_name": "Python 3",
      "language": "python",
      "name": "python3"
    },
    "language_info": {
      "codemirror_mode": {
        "name": "ipython",
        "version": 3
      },
      "file_extension": ".py",
      "mimetype": "text/x-python",
      "name": "python",
      "nbconvert_exporter": "python",
      "pygments_lexer": "ipython3",
      "version": "3.8.8"
    },
    "colab": {
      "name": "Copy of assignment_w4_c1_template.ipynb",
      "provenance": [],
      "collapsed_sections": [],
      "include_colab_link": true
    }
  },
  "cells": [
    {
      "cell_type": "markdown",
      "metadata": {
        "id": "view-in-github",
        "colab_type": "text"
      },
      "source": [
        "<a href=\"https://colab.research.google.com/github/Ayat-Salem/week_4/blob/main/Copy_of_assignment_w4_c1_template.ipynb\" target=\"_parent\"><img src=\"https://colab.research.google.com/assets/colab-badge.svg\" alt=\"Open In Colab\"/></a>"
      ]
    },
    {
      "cell_type": "markdown",
      "metadata": {
        "id": "LjWXMLVYA8Op"
      },
      "source": [
        "Week 4, Assignment C1:\n",
        "\n",
        "CAPM and Modern Portfolio Theory in Python\n",
        "\n",
        "In this notebook, we will study Modern Portfolio Theory in Python.\n",
        "Please complete the lines bellow where you see \"# TODO\"."
      ]
    },
    {
      "cell_type": "code",
      "metadata": {
        "id": "T_VLcDyxA8Oy"
      },
      "source": [
        "#Objective 1.\n",
        "#Use this cell to import Numpy (as np) and Pyplot (from Matplotlib as plt) packages.\n",
        "\n",
        "import pandas as pd\n",
        "import numpy as np\n",
        "from matplotlib import pyplot as plt"
      ],
      "execution_count": 13,
      "outputs": []
    },
    {
      "cell_type": "code",
      "metadata": {
        "id": "ns6at1fxA8O1"
      },
      "source": [
        "#Objective 2.\n",
        "#Select a number of asset classes ( > 1 ) and a number of observations ( > 500 ).  Store your chosen values to the\n",
        "#two new variables \"no_of_asset_classes\" and \"no_of_observations\", respectively.\n",
        "\n",
        "\n",
        "no_of_asset_classes = 4\n",
        "no_of_observations = 600"
      ],
      "execution_count": 14,
      "outputs": []
    },
    {
      "cell_type": "code",
      "metadata": {
        "id": "kXs9QYq_A8O2"
      },
      "source": [
        "np.random.seed(123)\n",
        "matrix_of_return_values = np.random.randn(no_of_asset_classes, no_of_observations)\n",
        "\n",
        "#Objective 3.\n",
        "#Select a number of test portfolios to generate ( > 1,000 < 20,000).  Store your chosen value to the new variable\n",
        "#\"no_of_portfolios\".  \n",
        "\n",
        "no_of_portfolios = 4000"
      ],
      "execution_count": 15,
      "outputs": []
    },
    {
      "cell_type": "code",
      "metadata": {
        "id": "sQU_Gu9nA8O4"
      },
      "source": [
        "#Objective 4.\n",
        "#Initialize four empty lists called \"collection_of_random_asset_weights\", \"portfolio_means\",\n",
        "#\"portfolio_standard_deviations\", and \"portfolio_sharpe_ratios\", respectively.\n",
        "\n",
        "collection_of_random_asset_weights = []\n",
        "portfolio_means = []\n",
        "portfolio_standard_deviations = []\n",
        "portfolio_sharpe_ratios = []"
      ],
      "execution_count": 16,
      "outputs": []
    },
    {
      "cell_type": "code",
      "metadata": {
        "id": "k1VU5lOMA8O5",
        "colab": {
          "base_uri": "https://localhost:8080/"
        },
        "outputId": "774e8bd9-3a5c-4a54-fcbc-4b80d120f2d4"
      },
      "source": [
        "#Objective 5.\n",
        "#Write a function called \"get_random_asset_weights\" that takes as input (Input.I) any number of asset classes\n",
        "#\"no_of_asset_classes\" and returns (Output.I) a Numpy vector (matrix) of weights (percentages) of length \"no_of_asset_classes\"\n",
        "#whose sum is one (1).\n",
        "\n",
        "def get_random_asset_weights(no_of_asset_classes):\n",
        "    random_asset_weights = np.random.rand(no_of_asset_classes)\n",
        "    random_asset_Sum= np.sum(random_asset_weights)\n",
        "    random_asset_weights= random_asset_weights/random_asset_Sum\n",
        "    \n",
        "    return np.asmatrix(random_asset_weights) \n",
        "\n",
        "get_random_asset_weights(no_of_asset_classes)\n"
      ],
      "execution_count": 17,
      "outputs": [
        {
          "output_type": "execute_result",
          "data": {
            "text/plain": [
              "matrix([[0.39156758, 0.26682271, 0.2701836 , 0.07142611]])"
            ]
          },
          "metadata": {},
          "execution_count": 17
        }
      ]
    },
    {
      "cell_type": "code",
      "metadata": {
        "id": "4GEOlMX6A8O7"
      },
      "source": [
        "#Objective 6.\n",
        "#Write a function called \"get_portfolio_statistics\" that takes as input (Input.I) a Numpy vector (matrix)\n",
        "#\"asset_weights\" of weights (percentages) whose sum is one (1) and (Input.II) a Numpy matrix of return values\n",
        "#\"matrix_of_return_values\" whose first axis length is the same as the length of the Numpy vector (matrix)\n",
        "#\"asset_weights\" and returns (Output.I) the mean \"portfolio_mean\", (Output.II) the standard deviation\n",
        "#\"portfolio_standard_deviation\", and (Output.III) the Sharpe ratio \"portfolio_sharpe_ratio\" of the portfolio of\n",
        "#assets with asset weights \"asset_weights\" and asset return values belonging to \"matrix_of_return_values\".\n",
        "\n",
        "def get_portfolio_statistics(asset_weights, matrix_of_return_values):\n",
        "    asset_means = np.asmatrix(np.mean(matrix_of_return_values, axis = 1))\n",
        "    asset_covariances = np.asmatrix(np.cov(matrix_of_return_values))\n",
        "    portfolio_mean = asset_weights * asset_means.T\n",
        "    #portfolio_mean = #todo second line if needed.\n",
        "    portfolio_standard_deviation = np.sqrt(asset_weights * asset_covariances * asset_weights.T )\n",
        "    #portfolio_standard_deviation = #todo second line if needed.\n",
        "    portfolio_sharpe_ratio = portfolio_mean/portfolio_standard_deviation\n",
        "    return portfolio_mean, portfolio_standard_deviation, portfolio_sharpe_ratio"
      ],
      "execution_count": 18,
      "outputs": []
    },
    {
      "cell_type": "code",
      "metadata": {
        "id": "Hnr6pVFwA8O9"
      },
      "source": [
        "#Objective 7.\n",
        "#Using the functions constructed in Objectives 5 and 6, write a loop that, on each iteration, determines a\n",
        "#Numpy vector (matrix) of weights (percentages) \"random_asset_weights\" of length \"no_of_asset_classes\" whose sum \n",
        "#is one (1) and then appends to each of the lists \"collection_of_random_asset_weights\", \"portfolio_means\",\n",
        "#\"portfolio_standard_deviations\", and \"portfolio_sharpe_ratios\" the Numpy vector (matrix) of weights (percentages)\n",
        "#\"random_asset_weights\"; and the mean \"portfolio_mean\", the standard deviation \"portfolio_standard_deviation\", and\n",
        "#the Sharpe ratio \"portfolio_sharpe_ratio\" of the portfolio of assets with asset weights \"asset_weights\" and asset \n",
        "#return values belonging to \"matrix_of_return_values\", respectively.\n",
        "\n",
        "\n",
        "while len(collection_of_random_asset_weights) < no_of_portfolios:\n",
        "  random_asset_weights= get_random_asset_weights(no_of_asset_classes=no_of_asset_classes)\n",
        "  collection_of_random_asset_weights.append(random_asset_weights)\n",
        "  e_r, volatility, sr =  get_portfolio_statistics(\n",
        "      asset_weights=random_asset_weights,\n",
        "      matrix_of_return_values=matrix_of_return_values\n",
        "  )\n",
        "  \n",
        "  portfolio_means.append(e_r.item())\n",
        "  portfolio_standard_deviations.append(volatility.item())\n",
        "  portfolio_sharpe_ratios.append(sr.item())\n",
        "\n",
        "\n"
      ],
      "execution_count": 19,
      "outputs": []
    },
    {
      "cell_type": "code",
      "metadata": {
        "id": "-3xwWltuA8O_",
        "colab": {
          "base_uri": "https://localhost:8080/",
          "height": 265
        },
        "outputId": "9c4106f7-dc42-4837-841b-e55fa985b4d7"
      },
      "source": [
        "0#Objective 8.\n",
        "#Make a scatterplot of the corresponding values (x,y) = (portfolio_standard_deviation, portfolio_mean) from the\n",
        "#lists \"portfolio_standard_deviations\" and \"portfolio_means\", respectively.\n",
        "\n",
        "plt.plot(portfolio_standard_deviations, portfolio_means, 'o', markersize = 3, color = 'lightskyblue') \n",
        "plt.show()"
      ],
      "execution_count": 20,
      "outputs": [
        {
          "output_type": "display_data",
          "data": {
            "image/png": "[encoded data removed]",
            "text/plain": [
              "<Figure size 432x288 with 1 Axes>"
            ]
          },
          "metadata": {
            "needs_background": "light"
          }
        }
      ]
    },
    {
      "cell_type": "code",
      "metadata": {
        "id": "NhVUZiURA8PB"
      },
      "source": [
        "#Objective 9.\n",
        "#Find the list index of the portfolio of highest Sharpe ratio.\n",
        "\n",
        "index = np.argmax(portfolio_sharpe_ratios)"
      ],
      "execution_count": 21,
      "outputs": []
    },
    {
      "cell_type": "code",
      "metadata": {
        "id": "_mE2lIzuA8PC",
        "colab": {
          "base_uri": "https://localhost:8080/"
        },
        "outputId": "24b9e260-c822-4891-d6f8-c0006949bf97"
      },
      "source": [
        "#Objective 10.\n",
        "#Print the asset weights and Sharpe ratio of the portfolio of highest Sharpe ratio, using index above.\n",
        "\n",
        "print(collection_of_random_asset_weights[index])\n",
        "print(portfolio_sharpe_ratios[index])"
      ],
      "execution_count": 22,
      "outputs": [
        {
          "output_type": "stream",
          "name": "stdout",
          "text": [
            "[[0.1615472  0.01150555 0.00317708 0.82377017]]\n",
            "0.06526274218386272\n"
          ]
        }
      ]
    },
    {
      "cell_type": "code",
      "metadata": {
        "id": "HdPi5L8tA8PD",
        "colab": {
          "base_uri": "https://localhost:8080/",
          "height": 265
        },
        "outputId": "72e6fc29-baf6-4b83-8176-9fff32f5bab3"
      },
      "source": [
        "#Objective 11.\n",
        "#Add the Capital Market Line to your scatterplot from Objective 8.\n",
        "\n",
        "x = np.linspace(0, max(portfolio_standard_deviations), 10000)\n",
        "y = portfolio_sharpe_ratios[index] * x\n",
        "plt.plot(portfolio_standard_deviations, portfolio_means, 'o', markersize = 3, color = 'lightskyblue')\n",
        "plt.plot(x, y, '-', linewidth = 2, color = 'green')\n",
        "plt.show()"
      ],
      "execution_count": 23,
      "outputs": [
        {
          "output_type": "display_data",
          "data": {
            "image/png": "[encoded data removed]",
            "text/plain": [
              "<Figure size 432x288 with 1 Axes>"
            ]
          },
          "metadata": {
            "needs_background": "light"
          }
        }
      ]
    },
    {
      "cell_type": "code",
      "metadata": {
        "id": "q7L8gGuRA8PD"
      },
      "source": [
        "#Objective 12.\n",
        "#All of the work in this notebook assumes a risk-free rate of zero (0.00).  How could this work be modified to\n",
        "#accommodate a nonzero risk-free rate?  Explain."
      ],
      "execution_count": 24,
      "outputs": []
    },
    {
      "cell_type": "markdown",
      "metadata": {
        "id": "4FRVnxgLA8PE"
      },
      "source": [
        "we can chane the number of risk by chnage the number when its 0 risk-free rate becuse in each graph we have efficient and inefficient points, the inefficient point is placed down and we could find different portfolio with different higher return and doesn't have a higher risk with the same volatility, we have also the line which is the capital market when we choose the number of the risk-free rate return the line will be touching the part of the efficient portfolio the tangent portfolio and the line and curve will include a different combination of stocks and risk-free asset, the tangent portfolio is market portfolio and its the one with the highest sharp ratio, which is the excess portfolio returns the dived by the volatility which is  the total risk .\n",
        "\n",
        "only two intersection point is different in this example it decides the risk-free rate be zero, if we change it for example to 4.0 then it will be no intersection points between the capital market and the inefficient portfolio and more risk \n",
        "we can decide the number for the portfolio_sharpe_ratio retehr than zero and caculate it by using the formulla portfolio_sharpe_ratio = (expected_returns_protolio- risk_free_return)/ portfolio_standard_deviation\n",
        "\n",
        "and portfolio_standard_deviation = portfolio_mean/portfolio_sharpe_ratio\n",
        "\n"
      ]
    }
  ]
}